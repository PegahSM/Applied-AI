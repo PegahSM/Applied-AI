{
 "cells": [
  {
   "cell_type": "code",
   "execution_count": 23,
   "id": "64fd8757-3897-4cc0-9926-81b2430e1f53",
   "metadata": {},
   "outputs": [
    {
     "name": "stdout",
     "output_type": "stream",
     "text": [
      "Decoded String: abbas cheddad\n"
     ]
    }
   ],
   "source": [
    "from PIL import Image\n",
    "import numpy as np\n",
    "\n",
    "def decode_barcode(image_path):\n",
    "    # Load the image\n",
    "    img = Image.open(image_path)\n",
    "    canvas = np.array(img)\n",
    "    \n",
    "    # Scan the middle line (row 200)\n",
    "    row = canvas[200, :]\n",
    "    \n",
    "    str_decoded = \"\"\n",
    "    current_width = 0\n",
    "    \n",
    "    for pixel in row:\n",
    "        if pixel == 0:  # Bar detected (black pixel)\n",
    "            current_width += 1\n",
    "        elif pixel == 255 and current_width > 0:  # End of the bar (white pixel)\n",
    "            if current_width == 1:\n",
    "                str_decoded += \" \"  # If the width is 1, it's a space\n",
    "            else:\n",
    "                # Match the character based on width\n",
    "                char = chr(current_width + ord('a') - 2)\n",
    "                str_decoded += char\n",
    "            current_width = 0\n",
    "    \n",
    "    return str_decoded\n",
    "\n",
    "# Example usage\n",
    "decoded_str = decode_barcode(\"Output.png\")\n",
    "print(\"Decoded String:\", decoded_str)\n"
   ]
  },
  {
   "cell_type": "code",
   "execution_count": null,
   "id": "01640c53-df0b-4032-b58a-79554da6fb82",
   "metadata": {},
   "outputs": [],
   "source": []
  }
 ],
 "metadata": {
  "kernelspec": {
   "display_name": "Python 3 (ipykernel)",
   "language": "python",
   "name": "python3"
  },
  "language_info": {
   "codemirror_mode": {
    "name": "ipython",
    "version": 3
   },
   "file_extension": ".py",
   "mimetype": "text/x-python",
   "name": "python",
   "nbconvert_exporter": "python",
   "pygments_lexer": "ipython3",
   "version": "3.12.4"
  }
 },
 "nbformat": 4,
 "nbformat_minor": 5
}
