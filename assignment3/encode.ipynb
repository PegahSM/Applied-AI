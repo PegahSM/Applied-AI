{
 "cells": [
  {
   "cell_type": "code",
   "execution_count": 43,
   "id": "a92dc880-189e-421f-bb77-c3d07d59bdcd",
   "metadata": {},
   "outputs": [],
   "source": [
    "import numpy as np\n",
    "from PIL import Image\n",
    "\n",
    "def encode_barcode(text):\n",
    "    # Create an empty canvas of size 400x800 (height x width)\n",
    "    canvas = np.ones((400, 800), dtype=np.uint8) * 255  # Start with a white canvas\n",
    "    \n",
    "    # Define the bar and space dimensions\n",
    "    bar_height = (10, 350)\n",
    "    empty_height = (150, 250)\n",
    "    step = 9  # Space between bars\n",
    "    x = 0  # Starting x position\n",
    "\n",
    "    # Loop through the string character by character\n",
    "    for char in text:\n",
    "        if char == ' ':  # Space character\n",
    "            # Represent space as a 1-pixel black bar\n",
    "            canvas[bar_height[0]:bar_height[1], x:x + 1] = 0  # 1-pixel wide black bar\n",
    "            x += 1 + step  # Move forward by 1 pixel for the space and step size for next character\n",
    "            continue\n",
    "      #  if char == ' ':  # Space character\n",
    "      #      x += 1  # Empty space is 1-pixel width\n",
    "      #      continue\n",
    "        \n",
    "        # Determine bar width by the position of the alphabet (A=2, B=3, etc.)\n",
    "        char_width = ord(char.lower()) - ord('a') + 2\n",
    "        \n",
    "        # Draw the bar\n",
    "        canvas[bar_height[0]:bar_height[1], x:x + char_width] = 0  # Full height bar\n",
    "        x += char_width + step  # Increment x by char width + space\n",
    "        \n",
    "        if x >= 800:\n",
    "            break  # Stop if it exceeds canvas width\n",
    "    \n",
    "    # Save the image to disk\n",
    "    img = Image.fromarray(canvas)\n",
    "    img.save(\"Output.png\")\n",
    "\n",
    "# Example usage\n",
    "encode_barcode(\"Abbas Cheddad\")\n"
   ]
  },
  {
   "cell_type": "code",
   "execution_count": null,
   "id": "9184e76b-09eb-42fb-b7c5-01689189ebcd",
   "metadata": {},
   "outputs": [],
   "source": []
  },
  {
   "cell_type": "code",
   "execution_count": null,
   "id": "ec873d7b-7d5f-4f17-8b86-0bca2e014d83",
   "metadata": {},
   "outputs": [],
   "source": []
  }
 ],
 "metadata": {
  "kernelspec": {
   "display_name": "Python 3 (ipykernel)",
   "language": "python",
   "name": "python3"
  },
  "language_info": {
   "codemirror_mode": {
    "name": "ipython",
    "version": 3
   },
   "file_extension": ".py",
   "mimetype": "text/x-python",
   "name": "python",
   "nbconvert_exporter": "python",
   "pygments_lexer": "ipython3",
   "version": "3.12.4"
  }
 },
 "nbformat": 4,
 "nbformat_minor": 5
}
