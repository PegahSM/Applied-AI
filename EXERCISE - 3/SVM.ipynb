{
 "cells": [
  {
   "cell_type": "code",
   "execution_count": 1,
   "metadata": {},
   "outputs": [],
   "source": [
    "from numpy import argmax\n",
    "from keras.datasets import cifar10\n",
    "import matplotlib.pyplot as plt\n",
    "import numpy as np\n",
    "from sklearn.metrics import accuracy_score \n",
    "# Import datasets, classifiers and performance metrics\n",
    "from sklearn import datasets, svm, metrics"
   ]
  },
  {
   "cell_type": "code",
   "execution_count": 2,
   "metadata": {},
   "outputs": [
    {
     "name": "stdout",
     "output_type": "stream",
     "text": [
      "Downloading data from https://www.cs.toronto.edu/~kriz/cifar-10-python.tar.gz\n",
      "\u001b[1m170498071/170498071\u001b[0m \u001b[32m━━━━━━━━━━━━━━━━━━━━\u001b[0m\u001b[37m\u001b[0m \u001b[1m106s\u001b[0m 1us/step\n"
     ]
    },
    {
     "data": {
      "text/plain": [
       "'\\n[0] airplane\\n[1] car\\n[2] bird\\n[3] cat\\n[4] deer\\n[5] dog\\n[6] frog\\n[7] horse\\n[8] ship\\n[9] truck\\n'"
      ]
     },
     "execution_count": 2,
     "metadata": {},
     "output_type": "execute_result"
    }
   ],
   "source": [
    "(x_train, y_train), (x_test, y_test) = cifar10.load_data()\n",
    "\"\"\"\n",
    "[0] airplane\n",
    "[1] car\n",
    "[2] bird\n",
    "[3] cat\n",
    "[4] deer\n",
    "[5] dog\n",
    "[6] frog\n",
    "[7] horse\n",
    "[8] ship\n",
    "[9] truck\n",
    "\"\"\""
   ]
  },
  {
   "cell_type": "code",
   "execution_count": 5,
   "metadata": {},
   "outputs": [
    {
     "name": "stdout",
     "output_type": "stream",
     "text": [
      "(50000, 32, 32, 3) (10000, 32, 32, 3)\n"
     ]
    }
   ],
   "source": [
    "print(x_train.shape, x_test.shape)"
   ]
  },
  {
   "cell_type": "code",
   "execution_count": 7,
   "metadata": {},
   "outputs": [
    {
     "name": "stdout",
     "output_type": "stream",
     "text": [
      "(5000, 32, 32, 3) (5000, 1)\n"
     ]
    }
   ],
   "source": [
    "x_train=x_train[:5000,:,:,:]\n",
    "y_train=y_train[:5000,:]\n",
    "print(x_train.shape, y_train.shape)"
   ]
  },
  {
   "cell_type": "code",
   "execution_count": 9,
   "metadata": {},
   "outputs": [],
   "source": [
    "x_train=x_train.reshape(x_train.shape[0], 3072).astype('float32')\n",
    "x_test=x_test.reshape(x_test.shape[0], 3072).astype('float32')\n",
    "x_train = x_train.astype('float32')\n",
    "x_test = x_test.astype('float32')\n",
    "x_train  /= 255\n",
    "x_test /= 255"
   ]
  },
  {
   "cell_type": "code",
   "execution_count": 11,
   "metadata": {},
   "outputs": [
    {
     "name": "stdout",
     "output_type": "stream",
     "text": [
      "Start learning at 2024-10-07 13:46:47.545138\n",
      "Stop learning 2024-10-07 13:48:37.587488\n",
      "Elapsed learning 0:01:50.042350\n"
     ]
    }
   ],
   "source": [
    "classifier = svm.SVC(C=1,gamma=0.001)\n",
    "\n",
    "import datetime as dt\n",
    "start_time = dt.datetime.now()\n",
    "print('Start learning at {}'.format(str(start_time)))\n",
    "classifier.fit(x_train, y_train.ravel())\n",
    "end_time = dt.datetime.now() \n",
    "print('Stop learning {}'.format(str(end_time)))\n",
    "elapsed_time= end_time - start_time\n",
    "print('Elapsed learning {}'.format(str(elapsed_time)))"
   ]
  },
  {
   "cell_type": "code",
   "execution_count": 15,
   "metadata": {},
   "outputs": [],
   "source": [
    "# Now predict the value of the test\n",
    "expected = y_test\n",
    "predicted = classifier.predict(x_test)"
   ]
  },
  {
   "cell_type": "code",
   "execution_count": 18,
   "metadata": {},
   "outputs": [
    {
     "name": "stdout",
     "output_type": "stream",
     "text": [
      "Classification report for classifier SVC(C=1, gamma=0.001):\n",
      "              precision    recall  f1-score   support\n",
      "\n",
      "           0       0.46      0.42      0.44      1000\n",
      "           1       0.51      0.38      0.43      1000\n",
      "           2       0.27      0.33      0.30      1000\n",
      "           3       0.31      0.14      0.20      1000\n",
      "           4       0.30      0.35      0.33      1000\n",
      "           5       0.36      0.33      0.34      1000\n",
      "           6       0.39      0.53      0.45      1000\n",
      "           7       0.48      0.31      0.38      1000\n",
      "           8       0.44      0.61      0.51      1000\n",
      "           9       0.43      0.52      0.47      1000\n",
      "\n",
      "    accuracy                           0.39     10000\n",
      "   macro avg       0.40      0.39      0.38     10000\n",
      "weighted avg       0.40      0.39      0.38     10000\n",
      "\n",
      "\n",
      "0.3917\n"
     ]
    }
   ],
   "source": [
    "print(\"Classification report for classifier %s:\\n%s\\n\"\n",
    "      % (classifier, metrics.classification_report(expected, predicted)))\n",
    "print(accuracy_score(expected, predicted))"
   ]
  },
  {
   "cell_type": "code",
   "execution_count": null,
   "metadata": {},
   "outputs": [],
   "source": []
  }
 ],
 "metadata": {
  "kernelspec": {
   "display_name": "Python 3 (ipykernel)",
   "language": "python",
   "name": "python3"
  },
  "language_info": {
   "codemirror_mode": {
    "name": "ipython",
    "version": 3
   },
   "file_extension": ".py",
   "mimetype": "text/x-python",
   "name": "python",
   "nbconvert_exporter": "python",
   "pygments_lexer": "ipython3",
   "version": "3.12.4"
  },
  "vscode": {
   "interpreter": {
    "hash": "0bcc095a400ca354565d222492ad5e750a19b6787464d30c1555bbc93fb59a6e"
   }
  }
 },
 "nbformat": 4,
 "nbformat_minor": 4
}
